{
  "cells": [
    {
      "cell_type": "code",
      "execution_count": 1,
      "metadata": {
        "id": "lIYdn1woOS1n"
      },
      "outputs": [],
      "source": [
        "import pandas as pd\n",
        "\n",
        "url = 'https://raw.githubusercontent.com/lukes/ISO-3166-Countries-with-Regional-Codes/master/all/all.csv'\n",
        "df = pd.read_csv(url, index_col=0)"
      ]
    },
    {
      "cell_type": "code",
      "source": [
        "import random\n",
        "str(int(random.random()*10000)) + \"_df.csv\"\n",
        "file_name = str(int(random.random()*10000)) + \"_df.csv\"\n",
        "df.to_csv(file_name,index = False)"
      ],
      "metadata": {
        "id": "HdQokJxH61Qj"
      },
      "execution_count": 3,
      "outputs": []
    },
    {
      "cell_type": "code",
      "source": [
        ""
      ],
      "metadata": {
        "id": "9pidodMm650_"
      },
      "execution_count": null,
      "outputs": []
    }
  ],
  "metadata": {
    "colab": {
      "name": "scratchpad",
      "provenance": []
    },
    "kernelspec": {
      "display_name": "Python 3",
      "name": "python3"
    }
  },
  "nbformat": 4,
  "nbformat_minor": 0
}